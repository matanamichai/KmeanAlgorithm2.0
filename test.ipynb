{
 "cells": [
  {
   "cell_type": "code",
   "execution_count": 38,
   "metadata": {},
   "outputs": [
    {
     "name": "stdout",
     "output_type": "stream",
     "text": [
      "[[4 5 6]\n",
      " [7 8 9]]\n",
      "[1 2 3]\n"
     ]
    }
   ],
   "source": [
    "import numpy as np\n",
    "\n",
    "test_array = np.array([[1,2,3], [4,5,6], [7,8,9]])\n",
    "\n",
    "np.random.seed(0)\n",
    "first_centroid_index = np.random.choice(len(test_array))\n",
    "\n",
    "centroids_arr = test_array[first_centroid_index]\n",
    "test_array = np.delete(test_array, first_centroid_index, 0)\n",
    "\n",
    "print(test_array)\n",
    "print(centroids_arr)\n"
   ]
  },
  {
   "cell_type": "code",
   "execution_count": 41,
   "metadata": {},
   "outputs": [
    {
     "ename": "SyntaxError",
     "evalue": "unexpected EOF while parsing (1003577456.py, line 17)",
     "output_type": "error",
     "traceback": [
      "\u001b[0;36m  Cell \u001b[0;32mIn[41], line 17\u001b[0;36m\u001b[0m\n\u001b[0;31m    \u001b[0m\n\u001b[0m    ^\u001b[0m\n\u001b[0;31mSyntaxError\u001b[0m\u001b[0;31m:\u001b[0m unexpected EOF while parsing\n"
     ]
    }
   ],
   "source": [
    "import pandas as pd\n",
    "\n",
    "test_df = pd.DataFrame([[1,2,3], [4,5,6], [7,8,9], [71,81,91]])\n",
    "\n",
    "first_cen_index = np.random.choice(len(test_df))\n",
    "\n",
    "# test_df[\"sum\"] = test_df.sum(axis=1)\n",
    "# np.linalg.norm(test_df[0])\n",
    "#  test_df[\"min_dist\"] = test_df.apply(lambda row: )\n",
    "\n",
    "a = [[12, 13, 14], [6,7,8]]\n",
    "test_df[\"distance\"] = test_df.apply(lambda row: min(np.linalg.norm(i - row) for i in a), axis=1) # 2\n",
    "test_df[\"ratio\"] = test_df[\"distance\"] / sum(test_df[\"distance\"])                # 3\n",
    "print(test_df)\n",
    "print(\"------\")\n",
    "print(np.random.choice(len(test_df), list(test_df[\"ratio\"])))\n",
    "\n"
   ]
  }
 ],
 "metadata": {
  "kernelspec": {
   "display_name": ".venv",
   "language": "python",
   "name": "python3"
  },
  "language_info": {
   "codemirror_mode": {
    "name": "ipython",
    "version": 3
   },
   "file_extension": ".py",
   "mimetype": "text/x-python",
   "name": "python",
   "nbconvert_exporter": "python",
   "pygments_lexer": "ipython3",
   "version": "3.8.10"
  },
  "orig_nbformat": 4,
  "vscode": {
   "interpreter": {
    "hash": "35abb9552fb7a12175946843ac1bf8cd1140669e499ad4d82f5be4d13840d4dd"
   }
  }
 },
 "nbformat": 4,
 "nbformat_minor": 2
}
